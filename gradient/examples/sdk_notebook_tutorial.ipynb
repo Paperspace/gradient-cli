{
 "cells": [
  {
   "cell_type": "markdown",
   "metadata": {},
   "source": [
    "# **Gradient SDK Tutorial**"
   ]
  },
  {
   "cell_type": "code",
   "execution_count": null,
   "metadata": {},
   "outputs": [],
   "source": [
    "!pip install --pre -U gradient"
   ]
  },
  {
   "cell_type": "code",
   "execution_count": null,
   "metadata": {},
   "outputs": [],
   "source": [
    "!pip install jupyter-tensorboard\n",
    "!pip install -q tf-nightly-2.0-preview\n",
    "!pip install -U setuptools"
   ]
  },
  {
   "cell_type": "code",
   "execution_count": null,
   "metadata": {},
   "outputs": [],
   "source": [
    "#Import the SdkClient from the gradient package\n",
    "from gradient import sdk_client, ProjectsClient"
   ]
  },
  {
   "cell_type": "code",
   "execution_count": null,
   "metadata": {},
   "outputs": [],
   "source": [
    "#create a API Key\n",
    "api_key = \"api_key_here\""
   ]
  },
  {
   "cell_type": "code",
   "execution_count": null,
   "metadata": {},
   "outputs": [],
   "source": [
    "models_client = sdk_client.ModelsClient(api_key)\n",
    "projects_client = ProjectsClient(api_key)\n",
    "\n",
    "#or access them all from a single client\n",
    "#client = sdk_client.SdkClient(api_key)"
   ]
  },
  {
   "cell_type": "code",
   "execution_count": null,
   "metadata": {},
   "outputs": [],
   "source": [
    "#Reuse existing example, or create new project\n",
    "existing_team = False\n",
    "projects_list = projects_client.list()\n",
    "\n",
    "#print out all projects in the team\n",
    "for project in projects_list:\n",
    "    if project.name == \"SDK Example\":\n",
    "        print(project)\n",
    "        existing_team = True\n",
    "        break\n",
    "    elif not existing_team:\n",
    "        print(project)\n",
    "\n",
    "\n",
    "help(projects_client.list)"
   ]
  },
  {
   "cell_type": "code",
   "execution_count": null,
   "metadata": {},
   "outputs": [],
   "source": [
    "#get id of existing project or create a new one\n",
    "proj_id = project.id if existing_team else projects_client.create(\"SDK Example\")\n",
    "print(proj_id)\n",
    "\n",
    "help(projects_client.create)"
   ]
  },
  {
   "cell_type": "code",
   "execution_count": null,
   "metadata": {},
   "outputs": [],
   "source": [
    "models_client = sdk_client.ModelsClient(api_key)"
   ]
  },
  {
   "cell_type": "code",
   "execution_count": null,
   "metadata": {},
   "outputs": [],
   "source": [
    "#get model we just trained\n",
    "model_sn = models_client.list()[0]\n",
    "\n",
    "#print model summary\n",
    "print(model_sn.summary)"
   ]
  }
 ],
 "metadata": {
  "kernelspec": {
   "display_name": "Python 3",
   "language": "python",
   "name": "python3"
  },
  "language_info": {
   "codemirror_mode": {
    "name": "ipython",
    "version": 3
   },
   "file_extension": ".py",
   "mimetype": "text/x-python",
   "name": "python",
   "nbconvert_exporter": "python",
   "pygments_lexer": "ipython3",
   "version": "3.5.2"
  }
 },
 "nbformat": 4,
 "nbformat_minor": 2
}
